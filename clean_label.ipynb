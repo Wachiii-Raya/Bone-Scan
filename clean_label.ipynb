{
 "cells": [
  {
   "cell_type": "code",
   "execution_count": 4,
   "metadata": {},
   "outputs": [],
   "source": [
    "# Import modules\n",
    "import os\n",
    "import sys\n",
    "import pandas as pd\n",
    "from icecream import ic as log"
   ]
  },
  {
   "cell_type": "code",
   "execution_count": 19,
   "metadata": {},
   "outputs": [
    {
     "name": "stderr",
     "output_type": "stream",
     "text": [
      "ic| f\"Number of cases: {numCases}\": 'Number of cases: 3802'\n"
     ]
    },
    {
     "data": {
      "text/plain": [
       "pandas.core.frame.DataFrame"
      ]
     },
     "execution_count": 19,
     "metadata": {},
     "output_type": "execute_result"
    }
   ],
   "source": [
    "# Note: variable name are camelCase, function names are snake_case\n",
    "filename = \"BoneReport_2018.xlsx\"\n",
    "\n",
    "# open the file\n",
    "boneReportDf = pd.read_excel(filename)\n",
    "numCases = boneReportDf.shape[0]\n",
    "log(f\"Number of cases: {numCases}\")\n",
    "\n",
    "type(boneReportDf)\n"
   ]
  },
  {
   "cell_type": "code",
   "execution_count": 23,
   "metadata": {},
   "outputs": [
    {
     "name": "stderr",
     "output_type": "stream",
     "text": [
      "ic| boneReportDf.loc[0, 'Report']: ('WHOLE BODY BONE SCAN  (Tc-99m '\n",
      "                                    'MDP)                                          \n",
      "                                   '\n",
      "                                    '\n",
      "                                   '\n",
      "                                    'HISTORY: A 73-year-old woman with lung cancer was sent to evaluate bone '\n",
      "                                    'metastasis\n",
      "                                   '\n",
      "                                    '\n",
      "                                   '\n",
      "                                    'FINDINGS: The study reveals focal increased uptake at anterior left 1st and '\n",
      "                                    'right 5th ribs which cannot be excluded bone metastases.\n",
      "                                   '\n",
      "                                    '                   Increased uptake at right sided L4 vertebra associated '\n",
      "                                    'with thoracolumbar scoliosis is suspected due to degenerative change. '\n",
      "                                    'However, bone metastasis cannot be totally excluded. Radiographic '\n",
      "                                    'correlation is recommended.\n",
      "                                   '\n",
      "                                    '                   Increased uptake at both shoulders and knees are likely '\n",
      "                                    'due to degenerative change.\n",
      "                                   '\n",
      "                                    '                   The rest of skeleton appears unremarkable.\n",
      "                                   '\n",
      "                                    '                   \n",
      "                                   '\n",
      "                                    'IMPRESSION - Cannot exclude bone metastases at anterior left 1st and right '\n",
      "                                    '5th ribs.\n",
      "                                   '\n",
      "                                    '                       - Suspected degenerative change at L4 vertebra, '\n",
      "                                    'however, bone metastasis cannot be totally excluded. Radiographic '\n",
      "                                    'correlation is recommended.')\n"
     ]
    },
    {
     "data": {
      "text/plain": [
       "'WHOLE BODY BONE SCAN  (Tc-99m MDP)                                          \\n\\nHISTORY: A 73-year-old woman with lung cancer was sent to evaluate bone metastasis\\n\\nFINDINGS: The study reveals focal increased uptake at anterior left 1st and right 5th ribs which cannot be excluded bone metastases.\\n                   Increased uptake at right sided L4 vertebra associated with thoracolumbar scoliosis is suspected due to degenerative change. However, bone metastasis cannot be totally excluded. Radiographic correlation is recommended.\\n                   Increased uptake at both shoulders and knees are likely due to degenerative change.\\n                   The rest of skeleton appears unremarkable.\\n                   \\nIMPRESSION - Cannot exclude bone metastases at anterior left 1st and right 5th ribs.\\n                       - Suspected degenerative change at L4 vertebra, however, bone metastasis cannot be totally excluded. Radiographic correlation is recommended.'"
      ]
     },
     "execution_count": 23,
     "metadata": {},
     "output_type": "execute_result"
    }
   ],
   "source": [
    "log(boneReportDf.loc[0, 'Report'])"
   ]
  },
  {
   "cell_type": "code",
   "execution_count": null,
   "metadata": {},
   "outputs": [],
   "source": [
    "# get gender \n"
   ]
  }
 ],
 "metadata": {
  "kernelspec": {
   "display_name": "bone-scan",
   "language": "python",
   "name": "python3"
  },
  "language_info": {
   "codemirror_mode": {
    "name": "ipython",
    "version": 3
   },
   "file_extension": ".py",
   "mimetype": "text/x-python",
   "name": "python",
   "nbconvert_exporter": "python",
   "pygments_lexer": "ipython3",
   "version": "3.11.9"
  }
 },
 "nbformat": 4,
 "nbformat_minor": 2
}
